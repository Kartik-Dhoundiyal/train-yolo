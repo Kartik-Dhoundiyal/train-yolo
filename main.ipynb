{
 "cells": [
  {
   "cell_type": "code",
   "execution_count": 4,
   "metadata": {
    "colab": {
     "base_uri": "https://localhost:8080/"
    },
    "executionInfo": {
     "elapsed": 1743360,
     "status": "ok",
     "timestamp": 1679434995088,
     "user": {
      "displayName": "Kartik Dhoundiyal",
      "userId": "15566279227969042934"
     },
     "user_tz": -330
    },
    "id": "YHHY3l2t_hSV",
    "outputId": "e88b7f7c-507b-4443-f0db-3e16bd86adc5"
   },
   "outputs": [
    {
     "name": "stdout",
     "output_type": "stream",
     "text": [
      "[Errno 2] No such file or directory: 'yolov7/'\n",
      "/home/trigoros/Desktop/Codes/temp-git/Automatic-Number-Plate-Recognition-System/model/yolov7\n"
     ]
    }
   ],
   "source": [
    "%cd lol/\n",
    "!pip install -r requirements.txt\n",
    "!pip install -r requirements_gpu.txt\n",
    "\n",
    "!python3 train.py --workers 1 --device 0 --batch-size 16 --epochs 100 --img 640 640 --hyp data/hyp.scratch.custom.yaml --name yolov7-custom --weights yolov7.pt\n"
   ]
  }
 ],
 "metadata": {
  "accelerator": "GPU",
  "colab": {
   "authorship_tag": "ABX9TyPazcxEqOxrR2UA22TsIBmn",
   "provenance": []
  },
  "gpuClass": "standard",
  "kernelspec": {
   "display_name": "Python 3 (ipykernel)",
   "language": "python",
   "name": "python3"
  },
  "language_info": {
   "codemirror_mode": {
    "name": "ipython",
    "version": 3
   },
   "file_extension": ".py",
   "mimetype": "text/x-python",
   "name": "python",
   "nbconvert_exporter": "python",
   "pygments_lexer": "ipython3",
   "version": "3.10.6"
  }
 },
 "nbformat": 4,
 "nbformat_minor": 1
}
